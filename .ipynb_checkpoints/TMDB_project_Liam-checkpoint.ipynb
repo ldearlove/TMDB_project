{
 "cells": [
  {
   "cell_type": "markdown",
   "id": "74c84e8d-5ef4-411a-b18e-399faae15b18",
   "metadata": {},
   "source": [
    "# <h1 style= \"text-align: center;\">Programmatic Data Wrangling - TMDB</h1>"
   ]
  },
  {
   "cell_type": "markdown",
   "id": "6650432e-17af-4ba1-8e53-93905cb66e13",
   "metadata": {},
   "source": [
    "<h2 style= \"text-align: center;\">By Liam Dearlove</h2>"
   ]
  },
  {
   "cell_type": "code",
   "execution_count": 2,
   "id": "f80a93a7-0d9d-4b4e-b09d-ee144178dfb1",
   "metadata": {},
   "outputs": [],
   "source": [
    "import numpy as np\n",
    "import seaborn as sns\n",
    "import matplotlib.pyplot as plt\n",
    "import pandas as pd"
   ]
  },
  {
   "cell_type": "code",
   "execution_count": 3,
   "id": "38606e28-bd6c-4eca-bab8-fed5bd04672a",
   "metadata": {},
   "outputs": [],
   "source": [
    "# Load the dataset into a dataframe\n",
    "dataset = \"TMDB_movies.csv\"\n",
    "\n",
    "df = pd.read_csv(dataset)"
   ]
  },
  {
   "cell_type": "code",
   "execution_count": 4,
   "id": "50e70d7e-ce62-414a-bc6e-03225c7ff7dc",
   "metadata": {},
   "outputs": [
    {
     "data": {
      "text/plain": [
       "(4803, 20)"
      ]
     },
     "execution_count": 4,
     "metadata": {},
     "output_type": "execute_result"
    }
   ],
   "source": [
    "# Checking number of rows and columns\n",
    "df.shape"
   ]
  },
  {
   "cell_type": "code",
   "execution_count": 5,
   "id": "e262bf55-928d-40dd-8f83-13445fed4cc2",
   "metadata": {},
   "outputs": [
    {
     "data": {
      "text/plain": [
       "budget                    int64\n",
       "genres                   object\n",
       "homepage                 object\n",
       "id                        int64\n",
       "keywords                 object\n",
       "original_language        object\n",
       "original_title           object\n",
       "overview                 object\n",
       "popularity              float64\n",
       "production_companies     object\n",
       "production_countries     object\n",
       "release_date             object\n",
       "revenue                   int64\n",
       "runtime                 float64\n",
       "spoken_languages         object\n",
       "status                   object\n",
       "tagline                  object\n",
       "title                    object\n",
       "vote_average            float64\n",
       "vote_count                int64\n",
       "dtype: object"
      ]
     },
     "execution_count": 5,
     "metadata": {},
     "output_type": "execute_result"
    }
   ],
   "source": [
    "# Checking the data type for each column\n",
    "df.dtypes"
   ]
  },
  {
   "cell_type": "code",
   "execution_count": null,
   "id": "6437bcd8-9903-42e4-8df2-3af8e0672c97",
   "metadata": {},
   "outputs": [],
   "source": []
  }
 ],
 "metadata": {
  "kernelspec": {
   "display_name": "Python 3 (ipykernel)",
   "language": "python",
   "name": "python3"
  },
  "language_info": {
   "codemirror_mode": {
    "name": "ipython",
    "version": 3
   },
   "file_extension": ".py",
   "mimetype": "text/x-python",
   "name": "python",
   "nbconvert_exporter": "python",
   "pygments_lexer": "ipython3",
   "version": "3.11.7"
  }
 },
 "nbformat": 4,
 "nbformat_minor": 5
}
