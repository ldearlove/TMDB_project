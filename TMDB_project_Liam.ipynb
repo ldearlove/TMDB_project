{
 "cells": [
  {
   "cell_type": "markdown",
   "id": "74c84e8d-5ef4-411a-b18e-399faae15b18",
   "metadata": {},
   "source": [
    "# <h1 style= \"text-align: center;\">Programmatic Data Wrangling - TMDB</h1>"
   ]
  },
  {
   "cell_type": "markdown",
   "id": "6650432e-17af-4ba1-8e53-93905cb66e13",
   "metadata": {},
   "source": [
    "<h2 style= \"text-align: center;\">By Liam Dearlove</h2>"
   ]
  },
  {
   "cell_type": "code",
   "execution_count": 1,
   "id": "f80a93a7-0d9d-4b4e-b09d-ee144178dfb1",
   "metadata": {},
   "outputs": [],
   "source": [
    "import numpy as np\n",
    "import seaborn as sns\n",
    "import matplotlib.pyplot as plt\n",
    "import pandas as pd"
   ]
  },
  {
   "cell_type": "code",
   "execution_count": 2,
   "id": "38606e28-bd6c-4eca-bab8-fed5bd04672a",
   "metadata": {},
   "outputs": [],
   "source": [
    "# Load the dataset into a dataframe\n",
    "dataset = \"TMDB_movies.csv\"\n",
    "\n",
    "df = pd.read_csv(dataset)"
   ]
  },
  {
   "cell_type": "code",
   "execution_count": null,
   "id": "50e70d7e-ce62-414a-bc6e-03225c7ff7dc",
   "metadata": {},
   "outputs": [],
   "source": []
  },
  {
   "cell_type": "code",
   "execution_count": null,
   "id": "e262bf55-928d-40dd-8f83-13445fed4cc2",
   "metadata": {},
   "outputs": [],
   "source": []
  }
 ],
 "metadata": {
  "kernelspec": {
   "display_name": "Python 3 (ipykernel)",
   "language": "python",
   "name": "python3"
  },
  "language_info": {
   "codemirror_mode": {
    "name": "ipython",
    "version": 3
   },
   "file_extension": ".py",
   "mimetype": "text/x-python",
   "name": "python",
   "nbconvert_exporter": "python",
   "pygments_lexer": "ipython3",
   "version": "3.11.7"
  }
 },
 "nbformat": 4,
 "nbformat_minor": 5
}
